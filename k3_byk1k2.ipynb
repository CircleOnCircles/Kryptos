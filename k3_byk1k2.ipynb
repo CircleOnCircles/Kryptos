{
 "cells": [
  {
   "cell_type": "markdown",
   "metadata": {
    "slideshow": {
     "slide_type": "slide"
    }
   },
   "source": [
    "# Kryptos 3 solver\n",
    "\n",
    "I had an idea that K3 is based on a re-arrangement and then a Vignère cipher substitution. \n",
    "\n",
    "This code will create random permutations of the 97 characters in K3 (or will accept a user-created permutation) and will work backwards through the 64th through 74th letters of BERLINCLOCK to see what the key would be\n",
    "\n",
    "Plaintext (pt):\t...XXXBERLINCLOCKXXXXXXXXXXXXXXXXXXXXXXXXX\n",
    "\n",
    "Key (kout):\t    ...XXXETHINGSOMETXXXXXXXXXXXXXXXXXXXXXXXXX\n",
    "\n",
    "Ciphertext (ct): ...NFBNYPVTTMZFPKWGDKZXTJCDIGKUHUAUEKCARXXX\n",
    "\n",
    "K1/K2 method = ELYOIECBAQK \n",
    "\n",
    "Standard method = SYMLWRQOYBQ"
   ]
  },
  {
   "cell_type": "code",
   "execution_count": null,
   "metadata": {
    "collapsed": false,
    "scrolled": true,
    "slideshow": {
     "slide_type": "skip"
    }
   },
   "outputs": [
    {
     "name": "stdout",
     "output_type": "stream",
     "text": [
      "Starting at 12:44:14 10/21/16 Eastern Daylight Time\n",
      "\n"
     ]
    }
   ],
   "source": [
    "import random \n",
    "import sys\n",
    "import time\n",
    "import math\n",
    "\n",
    "k1 = 'EMUFPHZLRFAXYUSDJKZLDKRNSHGNFIVJYQTQUXQBQVYUVLLTREVJYQTMKYRDMFD'\n",
    "plaintext1 = 'BETWEENSUBTLESHADINGANDTHEABSENCEOFLIGHTLIESTHENUANCEOFIQLUSION'\n",
    "posct1 = 0\n",
    "\n",
    "k2 =         'VFPJUDEEHZWETZYVGWHKKQETGFQJNCEGGWHKK?DQMCPFQZDQMMIAGPFXHQRLGTIMVMZJANQLVKQEDAGDVFRPJUNGEUNAQZGZLECGYUXUEENJTBJLBQCRTBJDFHRRYIZETKZEMVDUFKSJHKFWHKUWQLSZFTIHHDDDUVH?DWKBFUFPWNTDFIYCUQZEREEVLDKFEZMOQQJLTTUGSYQPFEUNLAVIDXFLGGTEZ?FKZBSFDQVGOGIPUFXHHDRKFFHQNTGPUAECNUVPDJMQCLQUMUNEDFQELZZVRRGKFFVOEEXBDMVPNFQXEZLGREDNQFMPNZGLFLPMRJQYALMGNUVPDXVKPDQUMEBEDMHDAFMJGZNUPLGEXWJLLAETG'\n",
    "plaintext2 = 'ITWASTOTALLYINVISIBLEHOWSTHATPOSSIBLE?THEYUSEDTHEEARTHSMAGNETICFIELDXTHEINFORMATIONWASGATHEREDANDTRANSMITTEDUNDERGRUUNDTOANUNKNOWNLOCATIONXDOESLANGLEYKNOWABOUTTHIS?THEYSHOULDITSBURIEDOUTTHERESOMEWHEREXWHOKNOWSTHEEXACTLOCATION?ONLYWWTHISWASHISLASTMESSAGEXTHIRTYEIGHTDEGREESFIFTYSEVENMINUTESSIXPOINTFIVESECONDSNORTHSEVENTYSEVENDEGREESEIGHTMINUTESFORTYFOURSECONDSWESTXLAYERTWO'\n",
    "posct2 = 0\n",
    "\n",
    "k4 = 'OBKRUOXOGHULBSOLIFBBWFLRVQQPRNGKSSOTWTQSJQSSEKZZWATJKLUDIAWINFBNYPVTTMZFPKWGDKZXTJCDIGKUHUAUEKCAR'\n",
    "plaintext4 = 'BERLINCLOCK'\n",
    "posct4 = 63\n",
    "\n",
    "alph = 'KRYPTOSABCDEFGHIJLMNQUVWXZ'\n",
    "\n",
    "vig = ['ABCDEFGHIJLMNQUVWXZKRYPTOS',\n",
    "       'BCDEFGHIJLMNQUVWXZKRYPTOSA',\n",
    "       'CDEFGHIJLMNQUVWXZKRYPTOSAB',\n",
    "       'DEFGHIJLMNQUVWXZKRYPTOSABC',\n",
    "       'EFGHIJLMNQUVWXZKRYPTOSABCD',\n",
    "       'FGHIJLMNQUVWXZKRYPTOSABCDE',\n",
    "       'GHIJLMNQUVWXZKRYPTOSABCDEF',\n",
    "       'HIJLMNQUVWXZKRYPTOSABCDEFG',\n",
    "       'IJLMNQUVWXZKRYPTOSABCDEFGH',\n",
    "       'JLMNQUVWXZKRYPTOSABCDEFGHI',\n",
    "       'LMNQUVWXZKRYPTOSABCDEFGHIJ',\n",
    "       'MNQUVWXZKRYPTOSABCDEFGHIJL',\n",
    "       'NQUVWXZKRYPTOSABCDEFGHIJLM',\n",
    "       'QUVWXZKRYPTOSABCDEFGHIJLMN',\n",
    "       'UVWXZKRYPTOSABCDEFGHIJLMNQ',\n",
    "       'VWXZKRYPTOSABCDEFGHIJLMNQU',\n",
    "       'WXZKRYPTOSABCDEFGHIJLMNQUV',\n",
    "       'XZKRYPTOSABCDEFGHIJLMNQUVW',\n",
    "       'ZKRYPTOSABCDEFGHIJLMNQUVWX',\n",
    "       'KRYPTOSABCDEFGHIJLMNQUVWXZ',\n",
    "       'RYPTOSABCDEFGHIJLMNQUVWXZK',\n",
    "       'YPTOSABCDEFGHIJLMNQUVWXZKR',\n",
    "       'PTOSABCDEFGHIJLMNQUVWXZKRY',\n",
    "       'TOSABCDEFGHIJLMNQUVWXZKRYP',\n",
    "       'OSABCDEFGHIJLMNQUVWXZKRYPT',\n",
    "       'SABCDEFGHIJLMNQUVWXZKRYPTO']\n",
    "\n",
    "def findRating(segin, segpt):\n",
    "    totalmatch = 0\n",
    "    totallen = len(segin)\n",
    "    for z in range(0, totallen):\n",
    "        if segin[z] == segpt[z]:\n",
    "            totalmatch += 1\n",
    "    return(totalmatch)\n",
    "        \n",
    "print(\"Starting at \" + time.strftime('%X %x %Z') + \"\\n\")\n",
    "    \n",
    "#Only look at ratings of 8/11 or higher\n",
    "ratebest = 8\n",
    "snipbest = \"\"\n",
    "wordbest = \"\"\n",
    "\n",
    "#for i in range(0, 1):\n",
    "for i in range(0, 100000):\n",
    "    \n",
    "    #scram = k4\n",
    "    slist = list(k4)\n",
    "    random.shuffle(slist)\n",
    "    scram = ''.join(slist)\n",
    "    \n",
    "    kout = \"\"\n",
    "    posct = posct4\n",
    "    \n",
    "    #Do a Vigenère translation based on K1 and K2 on the new random (scram) arrangement\n",
    "    for j in plaintext4:\n",
    "        #print(j)\n",
    "        alphpos = alph.find(j)\n",
    "        #print(alphpos)\n",
    "        \n",
    "        cttry = scram[posct]\n",
    "        #print(cttry)\n",
    "        \n",
    "        knew = ''\n",
    "        for k in vig:\n",
    "            vigtry = k[alphpos]\n",
    "            if vigtry == cttry:\n",
    "                #print(k)\n",
    "                knew = k[0]\n",
    "                break\n",
    "        #print(knew)\n",
    "        kout += knew\n",
    "        posct += 1\n",
    "    \n",
    "    #At this point. we have scram and kout\n",
    "    #print(kout + ' = ' + scram)\n",
    "\n",
    "    #Test for a match of an English word\n",
    "    #fin = open('short.txt')\n",
    "    fin = open('words.txt')\n",
    "\n",
    "    for linein in iter(fin):\n",
    "\n",
    "        testin = fin.readline()\n",
    "        testin = testin.strip()\n",
    "        testin = testin.upper()\n",
    "        #testin = \"PALIMPSEST\"\n",
    "        #print(testin)\n",
    "        \n",
    "        if len(testin) > 5:\n",
    "            testline = \"\"\n",
    "            testline = testline + testin + testin + testin + testin + testin\n",
    "            testline = testline + testin + testin + testin + testin + testin\n",
    "            testline = testline + testin + testin + testin + testin + testin\n",
    "            #print(testline)\n",
    "            testseg = testline[posct4:(posct4+len(kout))]\n",
    "            #print(testseg)\n",
    "                \n",
    "            ratenew = findRating(testseg, kout)\n",
    "            if ratenew >= ratebest:\n",
    "                #ratebest = ratenew\n",
    "                snipbest = kout\n",
    "                wordbest = testin\n",
    "                print(\"Rating: \" + str(ratenew) + \" out of \" + str(len(kout)))\n",
    "                print(\"Segment: \" + snipbest)\n",
    "                print(\"Word: \" + wordbest)\n",
    "                print(scram)\n",
    "                print(\"\")\n",
    "\n",
    "    fin.close()          \n",
    "    if ((i % 1000 == 0) and (i > 0)):\n",
    "        print(\"Iteration: \" + str(i) + \" at \" + time.strftime('%X %x %Z'))\n",
    "\n",
    "print(\"Done at \" + time.strftime('%X %x %Z'))\n"
   ]
  },
  {
   "cell_type": "code",
   "execution_count": null,
   "metadata": {
    "collapsed": false
   },
   "outputs": [],
   "source": [
    "import math\n",
    "print( (math.factorial(11)) / (math.factorial(86)) )"
   ]
  },
  {
   "cell_type": "code",
   "execution_count": null,
   "metadata": {
    "collapsed": true
   },
   "outputs": [],
   "source": []
  }
 ],
 "metadata": {
  "anaconda-cloud": {},
  "kernelspec": {
   "display_name": "Python [Root]",
   "language": "python",
   "name": "Python [Root]"
  },
  "language_info": {
   "codemirror_mode": {
    "name": "ipython",
    "version": 3
   },
   "file_extension": ".py",
   "mimetype": "text/x-python",
   "name": "python",
   "nbconvert_exporter": "python",
   "pygments_lexer": "ipython3",
   "version": "3.5.2"
  }
 },
 "nbformat": 4,
 "nbformat_minor": 0
}
